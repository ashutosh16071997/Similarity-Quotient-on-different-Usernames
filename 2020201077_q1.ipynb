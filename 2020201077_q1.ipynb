{
  "nbformat": 4,
  "nbformat_minor": 0,
  "metadata": {
    "colab": {
      "name": "OP_Ass2.ipynb",
      "provenance": []
    },
    "kernelspec": {
      "name": "python3",
      "display_name": "Python 3"
    },
    "language_info": {
      "name": "python"
    }
  },
  "cells": [
    {
      "cell_type": "code",
      "metadata": {
        "colab": {
          "base_uri": "https://localhost:8080/"
        },
        "id": "F8rgSjbveBGC",
        "outputId": "d1b80d64-8a9d-42f1-8cef-a2f81cc5b83d"
      },
      "source": [
        "import re\n",
        "import spacy\n",
        "import numpy as np\n",
        "import pandas as pd\n",
        "import matplotlib.pyplot as plt\n",
        "%matplotlib inline\n",
        "import matplotlib.style as style\n",
        "style.use(\"seaborn-notebook\")\n",
        "from google.colab import drive\n",
        "drive.mount('/content/drive',force_remount=True)"
      ],
      "execution_count": 1,
      "outputs": [
        {
          "output_type": "stream",
          "name": "stdout",
          "text": [
            "Mounted at /content/drive\n"
          ]
        }
      ]
    },
    {
      "cell_type": "code",
      "metadata": {
        "colab": {
          "base_uri": "https://localhost:8080/",
          "height": 418
        },
        "id": "TWrNpgxuebRp",
        "outputId": "c1ba77f2-b593-4eaf-8ec7-c245409faad2"
      },
      "source": [
        "input_path = '/content/drive/MyDrive/IdentityResolution.csv'\n",
        "dataset = pd.read_csv(input_path, encoding= 'unicode_escape', low_memory=False)\n",
        "dataset"
      ],
      "execution_count": 2,
      "outputs": [
        {
          "output_type": "execute_result",
          "data": {
            "text/html": [
              "<div>\n",
              "<style scoped>\n",
              "    .dataframe tbody tr th:only-of-type {\n",
              "        vertical-align: middle;\n",
              "    }\n",
              "\n",
              "    .dataframe tbody tr th {\n",
              "        vertical-align: top;\n",
              "    }\n",
              "\n",
              "    .dataframe thead th {\n",
              "        text-align: right;\n",
              "    }\n",
              "</style>\n",
              "<table border=\"1\" class=\"dataframe\">\n",
              "  <thead>\n",
              "    <tr style=\"text-align: right;\">\n",
              "      <th></th>\n",
              "      <th>Alain Stephan Domnguez Lucas</th>\n",
              "      <th>https://www.twitter.com/alainstephan</th>\n",
              "      <th>http://www.facebook.com/alainpato</th>\n",
              "      <th>http://instagram.com/alainstephan</th>\n",
              "    </tr>\n",
              "  </thead>\n",
              "  <tbody>\n",
              "    <tr>\n",
              "      <th>0</th>\n",
              "      <td>Alex Sablan</td>\n",
              "      <td>https://www.twitter.com/AlexSablancom</td>\n",
              "      <td>https://facebook.com/alexsablancom</td>\n",
              "      <td>http://instagram.com/a_sablan</td>\n",
              "    </tr>\n",
              "    <tr>\n",
              "      <th>1</th>\n",
              "      <td>Xavier Gass</td>\n",
              "      <td>https://www.twitter.com/XaviGasso</td>\n",
              "      <td>http://www.facebook.com/xgasso</td>\n",
              "      <td>http://instagram.com/xavigasso</td>\n",
              "    </tr>\n",
              "    <tr>\n",
              "      <th>2</th>\n",
              "      <td>Nicole Lapin</td>\n",
              "      <td>https://www.twitter.com/NicoleLapin</td>\n",
              "      <td>http://www.facebook.com/nicolelapin</td>\n",
              "      <td>http://instagram.com/nicolelapin</td>\n",
              "    </tr>\n",
              "    <tr>\n",
              "      <th>3</th>\n",
              "      <td>Mattan Griffel</td>\n",
              "      <td>https://www.twitter.com/mattangriffel</td>\n",
              "      <td>http://www.facebook.com/mattangriffel</td>\n",
              "      <td>http://instagram.com/mattangriffel</td>\n",
              "    </tr>\n",
              "    <tr>\n",
              "      <th>4</th>\n",
              "      <td>Shashank Bharadwaj</td>\n",
              "      <td>https://www.twitter.com/snk</td>\n",
              "      <td>https://www.facebook.com/shashu10</td>\n",
              "      <td>http://instagram.com/shashu10</td>\n",
              "    </tr>\n",
              "    <tr>\n",
              "      <th>...</th>\n",
              "      <td>...</td>\n",
              "      <td>...</td>\n",
              "      <td>...</td>\n",
              "      <td>...</td>\n",
              "    </tr>\n",
              "    <tr>\n",
              "      <th>318</th>\n",
              "      <td>Vasu Chawla</td>\n",
              "      <td>https://twitter.com/VasuChawla</td>\n",
              "      <td>https://facebook.com/vasuchawla26</td>\n",
              "      <td>https://instagram.com/vasuchawla</td>\n",
              "    </tr>\n",
              "    <tr>\n",
              "      <th>319</th>\n",
              "      <td>Dayn Wilberding</td>\n",
              "      <td>http://www.twitter.com/dayn</td>\n",
              "      <td>http://www.facebook.com/daynw</td>\n",
              "      <td>http://instagram.com/dayn</td>\n",
              "    </tr>\n",
              "    <tr>\n",
              "      <th>320</th>\n",
              "      <td>Guillermo Navarro</td>\n",
              "      <td>https://www.twitter.com/bildenlex</td>\n",
              "      <td>https://www.facebook.com/DRGUILLERMONAVARRO</td>\n",
              "      <td>http://instagram.com/bildenlex</td>\n",
              "    </tr>\n",
              "    <tr>\n",
              "      <th>321</th>\n",
              "      <td>Antonio J. Cuevas</td>\n",
              "      <td>https://www.twitter.com/Zeroneuronas</td>\n",
              "      <td>http://www.facebook.com/antonio.j.cuevas</td>\n",
              "      <td>http://instagram.com/zeroneuronas</td>\n",
              "    </tr>\n",
              "    <tr>\n",
              "      <th>322</th>\n",
              "      <td>Ghibril Ariadna</td>\n",
              "      <td>https://www.twitter.com/AriGhibril</td>\n",
              "      <td>https://www.facebook.com/ghibril</td>\n",
              "      <td>http://instagram.com/ghibril</td>\n",
              "    </tr>\n",
              "  </tbody>\n",
              "</table>\n",
              "<p>323 rows × 4 columns</p>\n",
              "</div>"
            ],
            "text/plain": [
              "    Alain Stephan Domnguez Lucas  ...   http://instagram.com/alainstephan\n",
              "0                    Alex Sablan  ...       http://instagram.com/a_sablan\n",
              "1                    Xavier Gass  ...      http://instagram.com/xavigasso\n",
              "2                   Nicole Lapin  ...    http://instagram.com/nicolelapin\n",
              "3                 Mattan Griffel  ...  http://instagram.com/mattangriffel\n",
              "4             Shashank Bharadwaj  ...       http://instagram.com/shashu10\n",
              "..                           ...  ...                                 ...\n",
              "318                  Vasu Chawla  ...    https://instagram.com/vasuchawla\n",
              "319              Dayn Wilberding  ...           http://instagram.com/dayn\n",
              "320            Guillermo Navarro  ...      http://instagram.com/bildenlex\n",
              "321            Antonio J. Cuevas  ...   http://instagram.com/zeroneuronas\n",
              "322              Ghibril Ariadna  ...        http://instagram.com/ghibril\n",
              "\n",
              "[323 rows x 4 columns]"
            ]
          },
          "metadata": {},
          "execution_count": 2
        }
      ]
    },
    {
      "cell_type": "markdown",
      "metadata": {
        "id": "k0ANcS6nfzhB"
      },
      "source": [
        "**Separating Usernames of twitter,Facebook and instagram**"
      ]
    },
    {
      "cell_type": "code",
      "metadata": {
        "colab": {
          "base_uri": "https://localhost:8080/",
          "height": 418
        },
        "id": "_O961NS7f-lJ",
        "outputId": "70f52274-2a80-42b6-b532-74e7482f6ee0"
      },
      "source": [
        "dataset['twitter'] = [x.split('/')[-1] if '/' in str(x) else x for x in dataset['https://www.twitter.com/alainstephan']]\n",
        "dataset['facebook'] = [x.split('/')[-1] if '/' in str(x) else x for x in dataset['http://www.facebook.com/alainpato']]\n",
        "dataset['instagram'] = [x.split('/')[-1] if '/' in str(x) else x for x in dataset['http://instagram.com/alainstephan']]\n",
        "dataset"
      ],
      "execution_count": 3,
      "outputs": [
        {
          "output_type": "execute_result",
          "data": {
            "text/html": [
              "<div>\n",
              "<style scoped>\n",
              "    .dataframe tbody tr th:only-of-type {\n",
              "        vertical-align: middle;\n",
              "    }\n",
              "\n",
              "    .dataframe tbody tr th {\n",
              "        vertical-align: top;\n",
              "    }\n",
              "\n",
              "    .dataframe thead th {\n",
              "        text-align: right;\n",
              "    }\n",
              "</style>\n",
              "<table border=\"1\" class=\"dataframe\">\n",
              "  <thead>\n",
              "    <tr style=\"text-align: right;\">\n",
              "      <th></th>\n",
              "      <th>Alain Stephan Domnguez Lucas</th>\n",
              "      <th>https://www.twitter.com/alainstephan</th>\n",
              "      <th>http://www.facebook.com/alainpato</th>\n",
              "      <th>http://instagram.com/alainstephan</th>\n",
              "      <th>twitter</th>\n",
              "      <th>facebook</th>\n",
              "      <th>instagram</th>\n",
              "    </tr>\n",
              "  </thead>\n",
              "  <tbody>\n",
              "    <tr>\n",
              "      <th>0</th>\n",
              "      <td>Alex Sablan</td>\n",
              "      <td>https://www.twitter.com/AlexSablancom</td>\n",
              "      <td>https://facebook.com/alexsablancom</td>\n",
              "      <td>http://instagram.com/a_sablan</td>\n",
              "      <td>AlexSablancom</td>\n",
              "      <td>alexsablancom</td>\n",
              "      <td>a_sablan</td>\n",
              "    </tr>\n",
              "    <tr>\n",
              "      <th>1</th>\n",
              "      <td>Xavier Gass</td>\n",
              "      <td>https://www.twitter.com/XaviGasso</td>\n",
              "      <td>http://www.facebook.com/xgasso</td>\n",
              "      <td>http://instagram.com/xavigasso</td>\n",
              "      <td>XaviGasso</td>\n",
              "      <td>xgasso</td>\n",
              "      <td>xavigasso</td>\n",
              "    </tr>\n",
              "    <tr>\n",
              "      <th>2</th>\n",
              "      <td>Nicole Lapin</td>\n",
              "      <td>https://www.twitter.com/NicoleLapin</td>\n",
              "      <td>http://www.facebook.com/nicolelapin</td>\n",
              "      <td>http://instagram.com/nicolelapin</td>\n",
              "      <td>NicoleLapin</td>\n",
              "      <td>nicolelapin</td>\n",
              "      <td>nicolelapin</td>\n",
              "    </tr>\n",
              "    <tr>\n",
              "      <th>3</th>\n",
              "      <td>Mattan Griffel</td>\n",
              "      <td>https://www.twitter.com/mattangriffel</td>\n",
              "      <td>http://www.facebook.com/mattangriffel</td>\n",
              "      <td>http://instagram.com/mattangriffel</td>\n",
              "      <td>mattangriffel</td>\n",
              "      <td>mattangriffel</td>\n",
              "      <td>mattangriffel</td>\n",
              "    </tr>\n",
              "    <tr>\n",
              "      <th>4</th>\n",
              "      <td>Shashank Bharadwaj</td>\n",
              "      <td>https://www.twitter.com/snk</td>\n",
              "      <td>https://www.facebook.com/shashu10</td>\n",
              "      <td>http://instagram.com/shashu10</td>\n",
              "      <td>snk</td>\n",
              "      <td>shashu10</td>\n",
              "      <td>shashu10</td>\n",
              "    </tr>\n",
              "    <tr>\n",
              "      <th>...</th>\n",
              "      <td>...</td>\n",
              "      <td>...</td>\n",
              "      <td>...</td>\n",
              "      <td>...</td>\n",
              "      <td>...</td>\n",
              "      <td>...</td>\n",
              "      <td>...</td>\n",
              "    </tr>\n",
              "    <tr>\n",
              "      <th>318</th>\n",
              "      <td>Vasu Chawla</td>\n",
              "      <td>https://twitter.com/VasuChawla</td>\n",
              "      <td>https://facebook.com/vasuchawla26</td>\n",
              "      <td>https://instagram.com/vasuchawla</td>\n",
              "      <td>VasuChawla</td>\n",
              "      <td>vasuchawla26</td>\n",
              "      <td>vasuchawla</td>\n",
              "    </tr>\n",
              "    <tr>\n",
              "      <th>319</th>\n",
              "      <td>Dayn Wilberding</td>\n",
              "      <td>http://www.twitter.com/dayn</td>\n",
              "      <td>http://www.facebook.com/daynw</td>\n",
              "      <td>http://instagram.com/dayn</td>\n",
              "      <td>dayn</td>\n",
              "      <td>daynw</td>\n",
              "      <td>dayn</td>\n",
              "    </tr>\n",
              "    <tr>\n",
              "      <th>320</th>\n",
              "      <td>Guillermo Navarro</td>\n",
              "      <td>https://www.twitter.com/bildenlex</td>\n",
              "      <td>https://www.facebook.com/DRGUILLERMONAVARRO</td>\n",
              "      <td>http://instagram.com/bildenlex</td>\n",
              "      <td>bildenlex</td>\n",
              "      <td>DRGUILLERMONAVARRO</td>\n",
              "      <td>bildenlex</td>\n",
              "    </tr>\n",
              "    <tr>\n",
              "      <th>321</th>\n",
              "      <td>Antonio J. Cuevas</td>\n",
              "      <td>https://www.twitter.com/Zeroneuronas</td>\n",
              "      <td>http://www.facebook.com/antonio.j.cuevas</td>\n",
              "      <td>http://instagram.com/zeroneuronas</td>\n",
              "      <td>Zeroneuronas</td>\n",
              "      <td>antonio.j.cuevas</td>\n",
              "      <td>zeroneuronas</td>\n",
              "    </tr>\n",
              "    <tr>\n",
              "      <th>322</th>\n",
              "      <td>Ghibril Ariadna</td>\n",
              "      <td>https://www.twitter.com/AriGhibril</td>\n",
              "      <td>https://www.facebook.com/ghibril</td>\n",
              "      <td>http://instagram.com/ghibril</td>\n",
              "      <td>AriGhibril</td>\n",
              "      <td>ghibril</td>\n",
              "      <td>ghibril</td>\n",
              "    </tr>\n",
              "  </tbody>\n",
              "</table>\n",
              "<p>323 rows × 7 columns</p>\n",
              "</div>"
            ],
            "text/plain": [
              "    Alain Stephan Domnguez Lucas  ...      instagram\n",
              "0                    Alex Sablan  ...       a_sablan\n",
              "1                    Xavier Gass  ...      xavigasso\n",
              "2                   Nicole Lapin  ...    nicolelapin\n",
              "3                 Mattan Griffel  ...  mattangriffel\n",
              "4             Shashank Bharadwaj  ...       shashu10\n",
              "..                           ...  ...            ...\n",
              "318                  Vasu Chawla  ...     vasuchawla\n",
              "319              Dayn Wilberding  ...           dayn\n",
              "320            Guillermo Navarro  ...      bildenlex\n",
              "321            Antonio J. Cuevas  ...   zeroneuronas\n",
              "322              Ghibril Ariadna  ...        ghibril\n",
              "\n",
              "[323 rows x 7 columns]"
            ]
          },
          "metadata": {},
          "execution_count": 3
        }
      ]
    },
    {
      "cell_type": "markdown",
      "metadata": {
        "id": "JKV3Bcf-cAxu"
      },
      "source": [
        "**Dropping the link columns and only keeping username columns**"
      ]
    },
    {
      "cell_type": "code",
      "metadata": {
        "id": "SR-_R6kggtbt"
      },
      "source": [
        "dataset.drop(columns = ['https://www.twitter.com/alainstephan','http://www.facebook.com/alainpato','http://instagram.com/alainstephan'],inplace = True)"
      ],
      "execution_count": 4,
      "outputs": []
    },
    {
      "cell_type": "code",
      "metadata": {
        "colab": {
          "base_uri": "https://localhost:8080/",
          "height": 418
        },
        "id": "KTGZkCWRhOqL",
        "outputId": "4a7e968a-6b49-4fee-90d9-0660ab8b24c4"
      },
      "source": [
        "dataset"
      ],
      "execution_count": 5,
      "outputs": [
        {
          "output_type": "execute_result",
          "data": {
            "text/html": [
              "<div>\n",
              "<style scoped>\n",
              "    .dataframe tbody tr th:only-of-type {\n",
              "        vertical-align: middle;\n",
              "    }\n",
              "\n",
              "    .dataframe tbody tr th {\n",
              "        vertical-align: top;\n",
              "    }\n",
              "\n",
              "    .dataframe thead th {\n",
              "        text-align: right;\n",
              "    }\n",
              "</style>\n",
              "<table border=\"1\" class=\"dataframe\">\n",
              "  <thead>\n",
              "    <tr style=\"text-align: right;\">\n",
              "      <th></th>\n",
              "      <th>Alain Stephan Domnguez Lucas</th>\n",
              "      <th>twitter</th>\n",
              "      <th>facebook</th>\n",
              "      <th>instagram</th>\n",
              "    </tr>\n",
              "  </thead>\n",
              "  <tbody>\n",
              "    <tr>\n",
              "      <th>0</th>\n",
              "      <td>Alex Sablan</td>\n",
              "      <td>AlexSablancom</td>\n",
              "      <td>alexsablancom</td>\n",
              "      <td>a_sablan</td>\n",
              "    </tr>\n",
              "    <tr>\n",
              "      <th>1</th>\n",
              "      <td>Xavier Gass</td>\n",
              "      <td>XaviGasso</td>\n",
              "      <td>xgasso</td>\n",
              "      <td>xavigasso</td>\n",
              "    </tr>\n",
              "    <tr>\n",
              "      <th>2</th>\n",
              "      <td>Nicole Lapin</td>\n",
              "      <td>NicoleLapin</td>\n",
              "      <td>nicolelapin</td>\n",
              "      <td>nicolelapin</td>\n",
              "    </tr>\n",
              "    <tr>\n",
              "      <th>3</th>\n",
              "      <td>Mattan Griffel</td>\n",
              "      <td>mattangriffel</td>\n",
              "      <td>mattangriffel</td>\n",
              "      <td>mattangriffel</td>\n",
              "    </tr>\n",
              "    <tr>\n",
              "      <th>4</th>\n",
              "      <td>Shashank Bharadwaj</td>\n",
              "      <td>snk</td>\n",
              "      <td>shashu10</td>\n",
              "      <td>shashu10</td>\n",
              "    </tr>\n",
              "    <tr>\n",
              "      <th>...</th>\n",
              "      <td>...</td>\n",
              "      <td>...</td>\n",
              "      <td>...</td>\n",
              "      <td>...</td>\n",
              "    </tr>\n",
              "    <tr>\n",
              "      <th>318</th>\n",
              "      <td>Vasu Chawla</td>\n",
              "      <td>VasuChawla</td>\n",
              "      <td>vasuchawla26</td>\n",
              "      <td>vasuchawla</td>\n",
              "    </tr>\n",
              "    <tr>\n",
              "      <th>319</th>\n",
              "      <td>Dayn Wilberding</td>\n",
              "      <td>dayn</td>\n",
              "      <td>daynw</td>\n",
              "      <td>dayn</td>\n",
              "    </tr>\n",
              "    <tr>\n",
              "      <th>320</th>\n",
              "      <td>Guillermo Navarro</td>\n",
              "      <td>bildenlex</td>\n",
              "      <td>DRGUILLERMONAVARRO</td>\n",
              "      <td>bildenlex</td>\n",
              "    </tr>\n",
              "    <tr>\n",
              "      <th>321</th>\n",
              "      <td>Antonio J. Cuevas</td>\n",
              "      <td>Zeroneuronas</td>\n",
              "      <td>antonio.j.cuevas</td>\n",
              "      <td>zeroneuronas</td>\n",
              "    </tr>\n",
              "    <tr>\n",
              "      <th>322</th>\n",
              "      <td>Ghibril Ariadna</td>\n",
              "      <td>AriGhibril</td>\n",
              "      <td>ghibril</td>\n",
              "      <td>ghibril</td>\n",
              "    </tr>\n",
              "  </tbody>\n",
              "</table>\n",
              "<p>323 rows × 4 columns</p>\n",
              "</div>"
            ],
            "text/plain": [
              "    Alain Stephan Domnguez Lucas  ...      instagram\n",
              "0                    Alex Sablan  ...       a_sablan\n",
              "1                    Xavier Gass  ...      xavigasso\n",
              "2                   Nicole Lapin  ...    nicolelapin\n",
              "3                 Mattan Griffel  ...  mattangriffel\n",
              "4             Shashank Bharadwaj  ...       shashu10\n",
              "..                           ...  ...            ...\n",
              "318                  Vasu Chawla  ...     vasuchawla\n",
              "319              Dayn Wilberding  ...           dayn\n",
              "320            Guillermo Navarro  ...      bildenlex\n",
              "321            Antonio J. Cuevas  ...   zeroneuronas\n",
              "322              Ghibril Ariadna  ...        ghibril\n",
              "\n",
              "[323 rows x 4 columns]"
            ]
          },
          "metadata": {},
          "execution_count": 5
        }
      ]
    },
    {
      "cell_type": "markdown",
      "metadata": {
        "id": "0U5AL_xphVhT"
      },
      "source": [
        "# **Similarity Between Instagram and Facebook**"
      ]
    },
    {
      "cell_type": "markdown",
      "metadata": {
        "id": "s_8od4SNhuvp"
      },
      "source": [
        "**Using Levenshtein Distance.**\n",
        "\n",
        "**The Levenshtein distance is a similarity measure between words. Given two words, the distance measures the number of edits needed to transform one word into another.**"
      ]
    },
    {
      "cell_type": "markdown",
      "metadata": {
        "id": "Aukhjz_cceN8"
      },
      "source": [
        "Installing the library strsim which contains all the distance metrics"
      ]
    },
    {
      "cell_type": "code",
      "metadata": {
        "colab": {
          "base_uri": "https://localhost:8080/"
        },
        "id": "pkEbm9NDiLc5",
        "outputId": "fb72d1e7-80d6-463c-de06-b54f1c2ec065"
      },
      "source": [
        "!pip install strsim"
      ],
      "execution_count": 6,
      "outputs": [
        {
          "output_type": "stream",
          "name": "stdout",
          "text": [
            "Collecting strsim\n",
            "  Downloading strsim-0.0.3-py3-none-any.whl (42 kB)\n",
            "\u001b[?25l\r\u001b[K     |███████▊                        | 10 kB 22.4 MB/s eta 0:00:01\r\u001b[K     |███████████████▌                | 20 kB 29.0 MB/s eta 0:00:01\r\u001b[K     |███████████████████████▏        | 30 kB 16.6 MB/s eta 0:00:01\r\u001b[K     |███████████████████████████████ | 40 kB 11.8 MB/s eta 0:00:01\r\u001b[K     |████████████████████████████████| 42 kB 975 kB/s \n",
            "\u001b[?25hInstalling collected packages: strsim\n",
            "Successfully installed strsim-0.0.3\n"
          ]
        }
      ]
    },
    {
      "cell_type": "code",
      "metadata": {
        "colab": {
          "base_uri": "https://localhost:8080/",
          "height": 418
        },
        "id": "HbU3Yt6Jha8S",
        "outputId": "f156b46d-69c2-42c1-b6ae-e0f32e8b7568"
      },
      "source": [
        "from similarity.normalized_levenshtein import NormalizedLevenshtein\n",
        "normalized_levenshtein = NormalizedLevenshtein()\n",
        "result = pd.DataFrame()\n",
        "result[\"fb_insta_leven\"] = [normalized_levenshtein.similarity(i, j) for i,j in zip(dataset['facebook'],dataset['instagram'])]\n",
        "result"
      ],
      "execution_count": 7,
      "outputs": [
        {
          "output_type": "execute_result",
          "data": {
            "text/html": [
              "<div>\n",
              "<style scoped>\n",
              "    .dataframe tbody tr th:only-of-type {\n",
              "        vertical-align: middle;\n",
              "    }\n",
              "\n",
              "    .dataframe tbody tr th {\n",
              "        vertical-align: top;\n",
              "    }\n",
              "\n",
              "    .dataframe thead th {\n",
              "        text-align: right;\n",
              "    }\n",
              "</style>\n",
              "<table border=\"1\" class=\"dataframe\">\n",
              "  <thead>\n",
              "    <tr style=\"text-align: right;\">\n",
              "      <th></th>\n",
              "      <th>fb_insta_leven</th>\n",
              "    </tr>\n",
              "  </thead>\n",
              "  <tbody>\n",
              "    <tr>\n",
              "      <th>0</th>\n",
              "      <td>0.538462</td>\n",
              "    </tr>\n",
              "    <tr>\n",
              "      <th>1</th>\n",
              "      <td>0.666667</td>\n",
              "    </tr>\n",
              "    <tr>\n",
              "      <th>2</th>\n",
              "      <td>1.000000</td>\n",
              "    </tr>\n",
              "    <tr>\n",
              "      <th>3</th>\n",
              "      <td>1.000000</td>\n",
              "    </tr>\n",
              "    <tr>\n",
              "      <th>4</th>\n",
              "      <td>1.000000</td>\n",
              "    </tr>\n",
              "    <tr>\n",
              "      <th>...</th>\n",
              "      <td>...</td>\n",
              "    </tr>\n",
              "    <tr>\n",
              "      <th>318</th>\n",
              "      <td>0.833333</td>\n",
              "    </tr>\n",
              "    <tr>\n",
              "      <th>319</th>\n",
              "      <td>0.800000</td>\n",
              "    </tr>\n",
              "    <tr>\n",
              "      <th>320</th>\n",
              "      <td>0.000000</td>\n",
              "    </tr>\n",
              "    <tr>\n",
              "      <th>321</th>\n",
              "      <td>0.250000</td>\n",
              "    </tr>\n",
              "    <tr>\n",
              "      <th>322</th>\n",
              "      <td>1.000000</td>\n",
              "    </tr>\n",
              "  </tbody>\n",
              "</table>\n",
              "<p>323 rows × 1 columns</p>\n",
              "</div>"
            ],
            "text/plain": [
              "     fb_insta_leven\n",
              "0          0.538462\n",
              "1          0.666667\n",
              "2          1.000000\n",
              "3          1.000000\n",
              "4          1.000000\n",
              "..              ...\n",
              "318        0.833333\n",
              "319        0.800000\n",
              "320        0.000000\n",
              "321        0.250000\n",
              "322        1.000000\n",
              "\n",
              "[323 rows x 1 columns]"
            ]
          },
          "metadata": {},
          "execution_count": 7
        }
      ]
    },
    {
      "cell_type": "markdown",
      "metadata": {
        "id": "39GR7Iwmi55q"
      },
      "source": [
        "**Using Jaro Winkler**\n",
        "\n",
        "**Jaro Similarity is the measure of similarity between two strings. The value of Jaro distance ranges from 0 to 1. where 1 means the strings are equal and 0 means no similarity between the two strings.**\n",
        "\n",
        "**The Jaro-Winkler similarity is a string metric measuring edit distance between two strings. Jaro – Winkler Similarity is much similar to Jaro Similarity. They both differ when the prefix of two string match. Jaro – Winkler Similarity uses a prefix scale ‘p’ which gives a more accurate answer when the strings have a common prefix up to a defined maximum length l.**"
      ]
    },
    {
      "cell_type": "code",
      "metadata": {
        "id": "IfF_ZxqvjuXz"
      },
      "source": [
        "from similarity.jarowinkler import JaroWinkler\n",
        "from similarity.cosine import Cosine"
      ],
      "execution_count": 8,
      "outputs": []
    },
    {
      "cell_type": "code",
      "metadata": {
        "colab": {
          "base_uri": "https://localhost:8080/",
          "height": 418
        },
        "id": "jWXvTun_ixVw",
        "outputId": "02ec52c4-ed05-4582-be32-24709b0f9a92"
      },
      "source": [
        "jarowinkler = JaroWinkler()\n",
        "result[\"fb_insta_jaro\"] = [jarowinkler.similarity(i, j) for i,j in zip(dataset['facebook'],dataset['instagram'])]\n",
        "result"
      ],
      "execution_count": 9,
      "outputs": [
        {
          "output_type": "execute_result",
          "data": {
            "text/html": [
              "<div>\n",
              "<style scoped>\n",
              "    .dataframe tbody tr th:only-of-type {\n",
              "        vertical-align: middle;\n",
              "    }\n",
              "\n",
              "    .dataframe tbody tr th {\n",
              "        vertical-align: top;\n",
              "    }\n",
              "\n",
              "    .dataframe thead th {\n",
              "        text-align: right;\n",
              "    }\n",
              "</style>\n",
              "<table border=\"1\" class=\"dataframe\">\n",
              "  <thead>\n",
              "    <tr style=\"text-align: right;\">\n",
              "      <th></th>\n",
              "      <th>fb_insta_leven</th>\n",
              "      <th>fb_insta_jaro</th>\n",
              "    </tr>\n",
              "  </thead>\n",
              "  <tbody>\n",
              "    <tr>\n",
              "      <th>0</th>\n",
              "      <td>0.538462</td>\n",
              "      <td>0.731615</td>\n",
              "    </tr>\n",
              "    <tr>\n",
              "      <th>1</th>\n",
              "      <td>0.666667</td>\n",
              "      <td>0.850000</td>\n",
              "    </tr>\n",
              "    <tr>\n",
              "      <th>2</th>\n",
              "      <td>1.000000</td>\n",
              "      <td>1.000000</td>\n",
              "    </tr>\n",
              "    <tr>\n",
              "      <th>3</th>\n",
              "      <td>1.000000</td>\n",
              "      <td>1.000000</td>\n",
              "    </tr>\n",
              "    <tr>\n",
              "      <th>4</th>\n",
              "      <td>1.000000</td>\n",
              "      <td>1.000000</td>\n",
              "    </tr>\n",
              "    <tr>\n",
              "      <th>...</th>\n",
              "      <td>...</td>\n",
              "      <td>...</td>\n",
              "    </tr>\n",
              "    <tr>\n",
              "      <th>318</th>\n",
              "      <td>0.833333</td>\n",
              "      <td>0.990741</td>\n",
              "    </tr>\n",
              "    <tr>\n",
              "      <th>319</th>\n",
              "      <td>0.800000</td>\n",
              "      <td>0.960000</td>\n",
              "    </tr>\n",
              "    <tr>\n",
              "      <th>320</th>\n",
              "      <td>0.000000</td>\n",
              "      <td>0.000000</td>\n",
              "    </tr>\n",
              "    <tr>\n",
              "      <th>321</th>\n",
              "      <td>0.250000</td>\n",
              "      <td>0.597222</td>\n",
              "    </tr>\n",
              "    <tr>\n",
              "      <th>322</th>\n",
              "      <td>1.000000</td>\n",
              "      <td>1.000000</td>\n",
              "    </tr>\n",
              "  </tbody>\n",
              "</table>\n",
              "<p>323 rows × 2 columns</p>\n",
              "</div>"
            ],
            "text/plain": [
              "     fb_insta_leven  fb_insta_jaro\n",
              "0          0.538462       0.731615\n",
              "1          0.666667       0.850000\n",
              "2          1.000000       1.000000\n",
              "3          1.000000       1.000000\n",
              "4          1.000000       1.000000\n",
              "..              ...            ...\n",
              "318        0.833333       0.990741\n",
              "319        0.800000       0.960000\n",
              "320        0.000000       0.000000\n",
              "321        0.250000       0.597222\n",
              "322        1.000000       1.000000\n",
              "\n",
              "[323 rows x 2 columns]"
            ]
          },
          "metadata": {},
          "execution_count": 9
        }
      ]
    },
    {
      "cell_type": "markdown",
      "metadata": {
        "id": "J20UcyA9kOcF"
      },
      "source": [
        "# **Similarity Between Instagram and Twitter**"
      ]
    },
    {
      "cell_type": "markdown",
      "metadata": {
        "id": "ikAJnsYWdNBD"
      },
      "source": [
        "**Using Levenshtein Distance.**\n",
        "\n",
        "**The Levenshtein distance is a similarity measure between words. Given two words, the distance measures the number of edits needed to transform one word into another.**"
      ]
    },
    {
      "cell_type": "markdown",
      "metadata": {
        "id": "v6msbE6idNBb"
      },
      "source": [
        "Installing the library strsim which contains all the distance metrics"
      ]
    },
    {
      "cell_type": "code",
      "metadata": {
        "colab": {
          "base_uri": "https://localhost:8080/"
        },
        "id": "e8cIaEhykOcI",
        "outputId": "a7b805cc-44a1-4ff1-ccd6-6e9ebacd64a5"
      },
      "source": [
        "!pip install strsim"
      ],
      "execution_count": 10,
      "outputs": [
        {
          "output_type": "stream",
          "name": "stdout",
          "text": [
            "Requirement already satisfied: strsim in /usr/local/lib/python3.7/dist-packages (0.0.3)\n"
          ]
        }
      ]
    },
    {
      "cell_type": "code",
      "metadata": {
        "colab": {
          "base_uri": "https://localhost:8080/",
          "height": 418
        },
        "id": "h31isKnXkOcK",
        "outputId": "a89fe5d9-9802-4c68-a590-1bad31c7c81c"
      },
      "source": [
        "from similarity.normalized_levenshtein import NormalizedLevenshtein\n",
        "normalized_levenshtein = NormalizedLevenshtein()\n",
        "result['insta_twitter_leven'] = [normalized_levenshtein.similarity(i, j) for i,j in zip(dataset['twitter'],dataset['instagram'])]\n",
        "result"
      ],
      "execution_count": 11,
      "outputs": [
        {
          "output_type": "execute_result",
          "data": {
            "text/html": [
              "<div>\n",
              "<style scoped>\n",
              "    .dataframe tbody tr th:only-of-type {\n",
              "        vertical-align: middle;\n",
              "    }\n",
              "\n",
              "    .dataframe tbody tr th {\n",
              "        vertical-align: top;\n",
              "    }\n",
              "\n",
              "    .dataframe thead th {\n",
              "        text-align: right;\n",
              "    }\n",
              "</style>\n",
              "<table border=\"1\" class=\"dataframe\">\n",
              "  <thead>\n",
              "    <tr style=\"text-align: right;\">\n",
              "      <th></th>\n",
              "      <th>fb_insta_leven</th>\n",
              "      <th>fb_insta_jaro</th>\n",
              "      <th>insta_twitter_leven</th>\n",
              "    </tr>\n",
              "  </thead>\n",
              "  <tbody>\n",
              "    <tr>\n",
              "      <th>0</th>\n",
              "      <td>0.538462</td>\n",
              "      <td>0.731615</td>\n",
              "      <td>0.384615</td>\n",
              "    </tr>\n",
              "    <tr>\n",
              "      <th>1</th>\n",
              "      <td>0.666667</td>\n",
              "      <td>0.850000</td>\n",
              "      <td>0.777778</td>\n",
              "    </tr>\n",
              "    <tr>\n",
              "      <th>2</th>\n",
              "      <td>1.000000</td>\n",
              "      <td>1.000000</td>\n",
              "      <td>0.818182</td>\n",
              "    </tr>\n",
              "    <tr>\n",
              "      <th>3</th>\n",
              "      <td>1.000000</td>\n",
              "      <td>1.000000</td>\n",
              "      <td>1.000000</td>\n",
              "    </tr>\n",
              "    <tr>\n",
              "      <th>4</th>\n",
              "      <td>1.000000</td>\n",
              "      <td>1.000000</td>\n",
              "      <td>0.125000</td>\n",
              "    </tr>\n",
              "    <tr>\n",
              "      <th>...</th>\n",
              "      <td>...</td>\n",
              "      <td>...</td>\n",
              "      <td>...</td>\n",
              "    </tr>\n",
              "    <tr>\n",
              "      <th>318</th>\n",
              "      <td>0.833333</td>\n",
              "      <td>0.990741</td>\n",
              "      <td>0.800000</td>\n",
              "    </tr>\n",
              "    <tr>\n",
              "      <th>319</th>\n",
              "      <td>0.800000</td>\n",
              "      <td>0.960000</td>\n",
              "      <td>1.000000</td>\n",
              "    </tr>\n",
              "    <tr>\n",
              "      <th>320</th>\n",
              "      <td>0.000000</td>\n",
              "      <td>0.000000</td>\n",
              "      <td>1.000000</td>\n",
              "    </tr>\n",
              "    <tr>\n",
              "      <th>321</th>\n",
              "      <td>0.250000</td>\n",
              "      <td>0.597222</td>\n",
              "      <td>0.916667</td>\n",
              "    </tr>\n",
              "    <tr>\n",
              "      <th>322</th>\n",
              "      <td>1.000000</td>\n",
              "      <td>1.000000</td>\n",
              "      <td>0.600000</td>\n",
              "    </tr>\n",
              "  </tbody>\n",
              "</table>\n",
              "<p>323 rows × 3 columns</p>\n",
              "</div>"
            ],
            "text/plain": [
              "     fb_insta_leven  fb_insta_jaro  insta_twitter_leven\n",
              "0          0.538462       0.731615             0.384615\n",
              "1          0.666667       0.850000             0.777778\n",
              "2          1.000000       1.000000             0.818182\n",
              "3          1.000000       1.000000             1.000000\n",
              "4          1.000000       1.000000             0.125000\n",
              "..              ...            ...                  ...\n",
              "318        0.833333       0.990741             0.800000\n",
              "319        0.800000       0.960000             1.000000\n",
              "320        0.000000       0.000000             1.000000\n",
              "321        0.250000       0.597222             0.916667\n",
              "322        1.000000       1.000000             0.600000\n",
              "\n",
              "[323 rows x 3 columns]"
            ]
          },
          "metadata": {},
          "execution_count": 11
        }
      ]
    },
    {
      "cell_type": "markdown",
      "metadata": {
        "id": "lj04fs6rkOcL"
      },
      "source": [
        "**Using Jaro Winkler**\n",
        "\n",
        "**Jaro Similarity is the measure of similarity between two strings. The value of Jaro distance ranges from 0 to 1. where 1 means the strings are equal and 0 means no similarity between the two strings.**\n",
        "\n",
        "**The Jaro-Winkler similarity is a string metric measuring edit distance between two strings. Jaro – Winkler Similarity is much similar to Jaro Similarity. They both differ when the prefix of two string match. Jaro – Winkler Similarity uses a prefix scale ‘p’ which gives a more accurate answer when the strings have a common prefix up to a defined maximum length l.**"
      ]
    },
    {
      "cell_type": "code",
      "metadata": {
        "id": "Uj-Hu_RckOcM"
      },
      "source": [
        "from similarity.jarowinkler import JaroWinkler\n",
        "from similarity.cosine import Cosine"
      ],
      "execution_count": 12,
      "outputs": []
    },
    {
      "cell_type": "code",
      "metadata": {
        "colab": {
          "base_uri": "https://localhost:8080/",
          "height": 418
        },
        "id": "opp95t3mkOcN",
        "outputId": "667a5ebd-e96f-42e2-e777-e574aadbba30"
      },
      "source": [
        "jarowinkler = JaroWinkler()\n",
        "result[\"insta_twitter_jaro\"] = [jarowinkler.similarity(i, j) for i,j in zip(dataset['twitter'],dataset['instagram'])]\n",
        "result"
      ],
      "execution_count": 13,
      "outputs": [
        {
          "output_type": "execute_result",
          "data": {
            "text/html": [
              "<div>\n",
              "<style scoped>\n",
              "    .dataframe tbody tr th:only-of-type {\n",
              "        vertical-align: middle;\n",
              "    }\n",
              "\n",
              "    .dataframe tbody tr th {\n",
              "        vertical-align: top;\n",
              "    }\n",
              "\n",
              "    .dataframe thead th {\n",
              "        text-align: right;\n",
              "    }\n",
              "</style>\n",
              "<table border=\"1\" class=\"dataframe\">\n",
              "  <thead>\n",
              "    <tr style=\"text-align: right;\">\n",
              "      <th></th>\n",
              "      <th>fb_insta_leven</th>\n",
              "      <th>fb_insta_jaro</th>\n",
              "      <th>insta_twitter_leven</th>\n",
              "      <th>insta_twitter_jaro</th>\n",
              "    </tr>\n",
              "  </thead>\n",
              "  <tbody>\n",
              "    <tr>\n",
              "      <th>0</th>\n",
              "      <td>0.538462</td>\n",
              "      <td>0.731615</td>\n",
              "      <td>0.384615</td>\n",
              "      <td>0.603205</td>\n",
              "    </tr>\n",
              "    <tr>\n",
              "      <th>1</th>\n",
              "      <td>0.666667</td>\n",
              "      <td>0.850000</td>\n",
              "      <td>0.777778</td>\n",
              "      <td>0.851852</td>\n",
              "    </tr>\n",
              "    <tr>\n",
              "      <th>2</th>\n",
              "      <td>1.000000</td>\n",
              "      <td>1.000000</td>\n",
              "      <td>0.818182</td>\n",
              "      <td>0.878788</td>\n",
              "    </tr>\n",
              "    <tr>\n",
              "      <th>3</th>\n",
              "      <td>1.000000</td>\n",
              "      <td>1.000000</td>\n",
              "      <td>1.000000</td>\n",
              "      <td>1.000000</td>\n",
              "    </tr>\n",
              "    <tr>\n",
              "      <th>4</th>\n",
              "      <td>1.000000</td>\n",
              "      <td>1.000000</td>\n",
              "      <td>0.125000</td>\n",
              "      <td>0.486111</td>\n",
              "    </tr>\n",
              "    <tr>\n",
              "      <th>...</th>\n",
              "      <td>...</td>\n",
              "      <td>...</td>\n",
              "      <td>...</td>\n",
              "      <td>...</td>\n",
              "    </tr>\n",
              "    <tr>\n",
              "      <th>318</th>\n",
              "      <td>0.833333</td>\n",
              "      <td>0.990741</td>\n",
              "      <td>0.800000</td>\n",
              "      <td>0.866667</td>\n",
              "    </tr>\n",
              "    <tr>\n",
              "      <th>319</th>\n",
              "      <td>0.800000</td>\n",
              "      <td>0.960000</td>\n",
              "      <td>1.000000</td>\n",
              "      <td>1.000000</td>\n",
              "    </tr>\n",
              "    <tr>\n",
              "      <th>320</th>\n",
              "      <td>0.000000</td>\n",
              "      <td>0.000000</td>\n",
              "      <td>1.000000</td>\n",
              "      <td>1.000000</td>\n",
              "    </tr>\n",
              "    <tr>\n",
              "      <th>321</th>\n",
              "      <td>0.250000</td>\n",
              "      <td>0.597222</td>\n",
              "      <td>0.916667</td>\n",
              "      <td>0.944444</td>\n",
              "    </tr>\n",
              "    <tr>\n",
              "      <th>322</th>\n",
              "      <td>1.000000</td>\n",
              "      <td>1.000000</td>\n",
              "      <td>0.600000</td>\n",
              "      <td>0.707937</td>\n",
              "    </tr>\n",
              "  </tbody>\n",
              "</table>\n",
              "<p>323 rows × 4 columns</p>\n",
              "</div>"
            ],
            "text/plain": [
              "     fb_insta_leven  fb_insta_jaro  insta_twitter_leven  insta_twitter_jaro\n",
              "0          0.538462       0.731615             0.384615            0.603205\n",
              "1          0.666667       0.850000             0.777778            0.851852\n",
              "2          1.000000       1.000000             0.818182            0.878788\n",
              "3          1.000000       1.000000             1.000000            1.000000\n",
              "4          1.000000       1.000000             0.125000            0.486111\n",
              "..              ...            ...                  ...                 ...\n",
              "318        0.833333       0.990741             0.800000            0.866667\n",
              "319        0.800000       0.960000             1.000000            1.000000\n",
              "320        0.000000       0.000000             1.000000            1.000000\n",
              "321        0.250000       0.597222             0.916667            0.944444\n",
              "322        1.000000       1.000000             0.600000            0.707937\n",
              "\n",
              "[323 rows x 4 columns]"
            ]
          },
          "metadata": {},
          "execution_count": 13
        }
      ]
    },
    {
      "cell_type": "markdown",
      "metadata": {
        "id": "8KG_0eFxmIMC"
      },
      "source": [
        "#**Similarity between Facebook and Twitter** "
      ]
    },
    {
      "cell_type": "markdown",
      "metadata": {
        "id": "86tvW3W1degs"
      },
      "source": [
        "**Using Levenshtein Distance.**\n",
        "\n",
        "**The Levenshtein distance is a similarity measure between words. Given two words, the distance measures the number of edits needed to transform one word into another.**"
      ]
    },
    {
      "cell_type": "code",
      "metadata": {
        "colab": {
          "base_uri": "https://localhost:8080/",
          "height": 418
        },
        "id": "oVCAmGhmmQWJ",
        "outputId": "19d8724a-6e78-44bc-e8de-259f27665ccf"
      },
      "source": [
        "from similarity.normalized_levenshtein import NormalizedLevenshtein\n",
        "normalized_levenshtein = NormalizedLevenshtein()\n",
        "result[\"fb_twitter_leven\"] = [normalized_levenshtein.similarity(i, j) for i,j in zip(dataset['facebook'],dataset['twitter'])]\n",
        "result"
      ],
      "execution_count": 14,
      "outputs": [
        {
          "output_type": "execute_result",
          "data": {
            "text/html": [
              "<div>\n",
              "<style scoped>\n",
              "    .dataframe tbody tr th:only-of-type {\n",
              "        vertical-align: middle;\n",
              "    }\n",
              "\n",
              "    .dataframe tbody tr th {\n",
              "        vertical-align: top;\n",
              "    }\n",
              "\n",
              "    .dataframe thead th {\n",
              "        text-align: right;\n",
              "    }\n",
              "</style>\n",
              "<table border=\"1\" class=\"dataframe\">\n",
              "  <thead>\n",
              "    <tr style=\"text-align: right;\">\n",
              "      <th></th>\n",
              "      <th>fb_insta_leven</th>\n",
              "      <th>fb_insta_jaro</th>\n",
              "      <th>insta_twitter_leven</th>\n",
              "      <th>insta_twitter_jaro</th>\n",
              "      <th>fb_twitter_leven</th>\n",
              "    </tr>\n",
              "  </thead>\n",
              "  <tbody>\n",
              "    <tr>\n",
              "      <th>0</th>\n",
              "      <td>0.538462</td>\n",
              "      <td>0.731615</td>\n",
              "      <td>0.384615</td>\n",
              "      <td>0.603205</td>\n",
              "      <td>0.846154</td>\n",
              "    </tr>\n",
              "    <tr>\n",
              "      <th>1</th>\n",
              "      <td>0.666667</td>\n",
              "      <td>0.850000</td>\n",
              "      <td>0.777778</td>\n",
              "      <td>0.851852</td>\n",
              "      <td>0.444444</td>\n",
              "    </tr>\n",
              "    <tr>\n",
              "      <th>2</th>\n",
              "      <td>1.000000</td>\n",
              "      <td>1.000000</td>\n",
              "      <td>0.818182</td>\n",
              "      <td>0.878788</td>\n",
              "      <td>0.818182</td>\n",
              "    </tr>\n",
              "    <tr>\n",
              "      <th>3</th>\n",
              "      <td>1.000000</td>\n",
              "      <td>1.000000</td>\n",
              "      <td>1.000000</td>\n",
              "      <td>1.000000</td>\n",
              "      <td>1.000000</td>\n",
              "    </tr>\n",
              "    <tr>\n",
              "      <th>4</th>\n",
              "      <td>1.000000</td>\n",
              "      <td>1.000000</td>\n",
              "      <td>0.125000</td>\n",
              "      <td>0.486111</td>\n",
              "      <td>0.125000</td>\n",
              "    </tr>\n",
              "    <tr>\n",
              "      <th>...</th>\n",
              "      <td>...</td>\n",
              "      <td>...</td>\n",
              "      <td>...</td>\n",
              "      <td>...</td>\n",
              "      <td>...</td>\n",
              "    </tr>\n",
              "    <tr>\n",
              "      <th>318</th>\n",
              "      <td>0.833333</td>\n",
              "      <td>0.990741</td>\n",
              "      <td>0.800000</td>\n",
              "      <td>0.866667</td>\n",
              "      <td>0.666667</td>\n",
              "    </tr>\n",
              "    <tr>\n",
              "      <th>319</th>\n",
              "      <td>0.800000</td>\n",
              "      <td>0.960000</td>\n",
              "      <td>1.000000</td>\n",
              "      <td>1.000000</td>\n",
              "      <td>0.800000</td>\n",
              "    </tr>\n",
              "    <tr>\n",
              "      <th>320</th>\n",
              "      <td>0.000000</td>\n",
              "      <td>0.000000</td>\n",
              "      <td>1.000000</td>\n",
              "      <td>1.000000</td>\n",
              "      <td>0.000000</td>\n",
              "    </tr>\n",
              "    <tr>\n",
              "      <th>321</th>\n",
              "      <td>0.250000</td>\n",
              "      <td>0.597222</td>\n",
              "      <td>0.916667</td>\n",
              "      <td>0.944444</td>\n",
              "      <td>0.250000</td>\n",
              "    </tr>\n",
              "    <tr>\n",
              "      <th>322</th>\n",
              "      <td>1.000000</td>\n",
              "      <td>1.000000</td>\n",
              "      <td>0.600000</td>\n",
              "      <td>0.707937</td>\n",
              "      <td>0.600000</td>\n",
              "    </tr>\n",
              "  </tbody>\n",
              "</table>\n",
              "<p>323 rows × 5 columns</p>\n",
              "</div>"
            ],
            "text/plain": [
              "     fb_insta_leven  fb_insta_jaro  ...  insta_twitter_jaro  fb_twitter_leven\n",
              "0          0.538462       0.731615  ...            0.603205          0.846154\n",
              "1          0.666667       0.850000  ...            0.851852          0.444444\n",
              "2          1.000000       1.000000  ...            0.878788          0.818182\n",
              "3          1.000000       1.000000  ...            1.000000          1.000000\n",
              "4          1.000000       1.000000  ...            0.486111          0.125000\n",
              "..              ...            ...  ...                 ...               ...\n",
              "318        0.833333       0.990741  ...            0.866667          0.666667\n",
              "319        0.800000       0.960000  ...            1.000000          0.800000\n",
              "320        0.000000       0.000000  ...            1.000000          0.000000\n",
              "321        0.250000       0.597222  ...            0.944444          0.250000\n",
              "322        1.000000       1.000000  ...            0.707937          0.600000\n",
              "\n",
              "[323 rows x 5 columns]"
            ]
          },
          "metadata": {},
          "execution_count": 14
        }
      ]
    },
    {
      "cell_type": "markdown",
      "metadata": {
        "id": "yWYpz_qImkyU"
      },
      "source": [
        "**Using Jaro Winkler**\n",
        "\n",
        "**Jaro Similarity is the measure of similarity between two strings. The value of Jaro distance ranges from 0 to 1. where 1 means the strings are equal and 0 means no similarity between the two strings.**\n",
        "\n",
        "**The Jaro-Winkler similarity is a string metric measuring edit distance between two strings. Jaro – Winkler Similarity is much similar to Jaro Similarity. They both differ when the prefix of two string match. Jaro – Winkler Similarity uses a prefix scale ‘p’ which gives a more accurate answer when the strings have a common prefix up to a defined maximum length l.**"
      ]
    },
    {
      "cell_type": "code",
      "metadata": {
        "id": "4oSnkgRRmkyV"
      },
      "source": [
        "from similarity.jarowinkler import JaroWinkler\n",
        "from similarity.cosine import Cosine"
      ],
      "execution_count": 15,
      "outputs": []
    },
    {
      "cell_type": "code",
      "metadata": {
        "colab": {
          "base_uri": "https://localhost:8080/",
          "height": 418
        },
        "id": "9sWnFy-NmkyW",
        "outputId": "296947e1-afad-44fd-b2c7-beeb582af903"
      },
      "source": [
        "jarowinkler = JaroWinkler()\n",
        "result[\"facebook_twitter_jaro\"] = [jarowinkler.similarity(i, j) for i,j in zip(dataset['twitter'],dataset['facebook'])]\n",
        "result"
      ],
      "execution_count": 16,
      "outputs": [
        {
          "output_type": "execute_result",
          "data": {
            "text/html": [
              "<div>\n",
              "<style scoped>\n",
              "    .dataframe tbody tr th:only-of-type {\n",
              "        vertical-align: middle;\n",
              "    }\n",
              "\n",
              "    .dataframe tbody tr th {\n",
              "        vertical-align: top;\n",
              "    }\n",
              "\n",
              "    .dataframe thead th {\n",
              "        text-align: right;\n",
              "    }\n",
              "</style>\n",
              "<table border=\"1\" class=\"dataframe\">\n",
              "  <thead>\n",
              "    <tr style=\"text-align: right;\">\n",
              "      <th></th>\n",
              "      <th>fb_insta_leven</th>\n",
              "      <th>fb_insta_jaro</th>\n",
              "      <th>insta_twitter_leven</th>\n",
              "      <th>insta_twitter_jaro</th>\n",
              "      <th>fb_twitter_leven</th>\n",
              "      <th>facebook_twitter_jaro</th>\n",
              "    </tr>\n",
              "  </thead>\n",
              "  <tbody>\n",
              "    <tr>\n",
              "      <th>0</th>\n",
              "      <td>0.538462</td>\n",
              "      <td>0.731615</td>\n",
              "      <td>0.384615</td>\n",
              "      <td>0.603205</td>\n",
              "      <td>0.846154</td>\n",
              "      <td>0.806527</td>\n",
              "    </tr>\n",
              "    <tr>\n",
              "      <th>1</th>\n",
              "      <td>0.666667</td>\n",
              "      <td>0.850000</td>\n",
              "      <td>0.777778</td>\n",
              "      <td>0.851852</td>\n",
              "      <td>0.444444</td>\n",
              "      <td>0.703704</td>\n",
              "    </tr>\n",
              "    <tr>\n",
              "      <th>2</th>\n",
              "      <td>1.000000</td>\n",
              "      <td>1.000000</td>\n",
              "      <td>0.818182</td>\n",
              "      <td>0.878788</td>\n",
              "      <td>0.818182</td>\n",
              "      <td>0.878788</td>\n",
              "    </tr>\n",
              "    <tr>\n",
              "      <th>3</th>\n",
              "      <td>1.000000</td>\n",
              "      <td>1.000000</td>\n",
              "      <td>1.000000</td>\n",
              "      <td>1.000000</td>\n",
              "      <td>1.000000</td>\n",
              "      <td>1.000000</td>\n",
              "    </tr>\n",
              "    <tr>\n",
              "      <th>4</th>\n",
              "      <td>1.000000</td>\n",
              "      <td>1.000000</td>\n",
              "      <td>0.125000</td>\n",
              "      <td>0.486111</td>\n",
              "      <td>0.125000</td>\n",
              "      <td>0.486111</td>\n",
              "    </tr>\n",
              "    <tr>\n",
              "      <th>...</th>\n",
              "      <td>...</td>\n",
              "      <td>...</td>\n",
              "      <td>...</td>\n",
              "      <td>...</td>\n",
              "      <td>...</td>\n",
              "      <td>...</td>\n",
              "    </tr>\n",
              "    <tr>\n",
              "      <th>318</th>\n",
              "      <td>0.833333</td>\n",
              "      <td>0.990741</td>\n",
              "      <td>0.800000</td>\n",
              "      <td>0.866667</td>\n",
              "      <td>0.666667</td>\n",
              "      <td>0.822222</td>\n",
              "    </tr>\n",
              "    <tr>\n",
              "      <th>319</th>\n",
              "      <td>0.800000</td>\n",
              "      <td>0.960000</td>\n",
              "      <td>1.000000</td>\n",
              "      <td>1.000000</td>\n",
              "      <td>0.800000</td>\n",
              "      <td>0.960000</td>\n",
              "    </tr>\n",
              "    <tr>\n",
              "      <th>320</th>\n",
              "      <td>0.000000</td>\n",
              "      <td>0.000000</td>\n",
              "      <td>1.000000</td>\n",
              "      <td>1.000000</td>\n",
              "      <td>0.000000</td>\n",
              "      <td>0.000000</td>\n",
              "    </tr>\n",
              "    <tr>\n",
              "      <th>321</th>\n",
              "      <td>0.250000</td>\n",
              "      <td>0.597222</td>\n",
              "      <td>0.916667</td>\n",
              "      <td>0.944444</td>\n",
              "      <td>0.250000</td>\n",
              "      <td>0.597222</td>\n",
              "    </tr>\n",
              "    <tr>\n",
              "      <th>322</th>\n",
              "      <td>1.000000</td>\n",
              "      <td>1.000000</td>\n",
              "      <td>0.600000</td>\n",
              "      <td>0.707937</td>\n",
              "      <td>0.600000</td>\n",
              "      <td>0.707937</td>\n",
              "    </tr>\n",
              "  </tbody>\n",
              "</table>\n",
              "<p>323 rows × 6 columns</p>\n",
              "</div>"
            ],
            "text/plain": [
              "     fb_insta_leven  fb_insta_jaro  ...  fb_twitter_leven  facebook_twitter_jaro\n",
              "0          0.538462       0.731615  ...          0.846154               0.806527\n",
              "1          0.666667       0.850000  ...          0.444444               0.703704\n",
              "2          1.000000       1.000000  ...          0.818182               0.878788\n",
              "3          1.000000       1.000000  ...          1.000000               1.000000\n",
              "4          1.000000       1.000000  ...          0.125000               0.486111\n",
              "..              ...            ...  ...               ...                    ...\n",
              "318        0.833333       0.990741  ...          0.666667               0.822222\n",
              "319        0.800000       0.960000  ...          0.800000               0.960000\n",
              "320        0.000000       0.000000  ...          0.000000               0.000000\n",
              "321        0.250000       0.597222  ...          0.250000               0.597222\n",
              "322        1.000000       1.000000  ...          0.600000               0.707937\n",
              "\n",
              "[323 rows x 6 columns]"
            ]
          },
          "metadata": {},
          "execution_count": 16
        }
      ]
    },
    {
      "cell_type": "markdown",
      "metadata": {
        "id": "_lp17Kikmy8s"
      },
      "source": [
        "# **Plotting the similarities**"
      ]
    },
    {
      "cell_type": "markdown",
      "metadata": {
        "id": "fsh3eadmpwkH"
      },
      "source": [
        "**Similarity between facebook and Instagram**"
      ]
    },
    {
      "cell_type": "code",
      "metadata": {
        "colab": {
          "base_uri": "https://localhost:8080/",
          "height": 269
        },
        "id": "Ag--HQOum22l",
        "outputId": "b7a478a5-79fc-412c-d7c4-a9258a48734d"
      },
      "source": [
        "# importing package\n",
        "import matplotlib.pyplot as plt\n",
        "import numpy as np\n",
        "  \n",
        "# create data\n",
        "x = result['fb_insta_leven']\n",
        "x_count = []\n",
        "for i in range(1,324):\n",
        "  x_count.append(i)\n",
        "y = result['fb_insta_jaro']\n",
        "fig = plt.figure()\n",
        "ax1 = fig.add_subplot(111)\n",
        "\n",
        "ax1.scatter(x,x_count ,s=100, c='r', marker=\"s\", label='fb_insta_leven')\n",
        "ax1.scatter(y,x_count, s=70, c='y', marker=\"o\", label='fb_insta_jaro')\n",
        "plt.legend(loc='upper left');\n",
        "plt.show()"
      ],
      "execution_count": 17,
      "outputs": [
        {
          "output_type": "display_data",
          "data": {
            "image/png": "[encoded data removed]",
            "text/plain": [
              "<Figure size 432x288 with 1 Axes>"
            ]
          },
          "metadata": {
            "needs_background": "light"
          }
        }
      ]
    },
    {
      "cell_type": "code",
      "metadata": {
        "colab": {
          "base_uri": "https://localhost:8080/",
          "height": 505
        },
        "id": "td8YFTvqebDg",
        "outputId": "018b3035-3326-43e3-f266-74d178a92811"
      },
      "source": [
        "import numpy as np\n",
        "import matplotlib.pyplot as plt\n",
        "\n",
        "# set width of bar\n",
        "barWidth = 0.25\n",
        "fig = plt.subplots(figsize =(12, 8))\n",
        "\n",
        "# set height of bar\n",
        "x = result['fb_insta_leven']\n",
        "y = result['fb_insta_jaro']\n",
        "# Set position of bar on X axis\n",
        "br1 = np.arange(len(x))\n",
        "br2 = [x1 + barWidth for x1 in br1]\n",
        "x_count = []\n",
        "for i in range(1,324):\n",
        "  x_count.append(i)\n",
        "# Make the plot\n",
        "plt.bar(br1, x, color ='r', width = barWidth,\n",
        "\t\tedgecolor ='grey', label ='fb_insta_leven')\n",
        "plt.bar(br2, y, color ='g', width = barWidth,\n",
        "\t\tedgecolor ='grey', label ='fb_insta_jaro')\n",
        "\n",
        "# Adding Xticks\n",
        "plt.xlabel('Count', fontweight ='bold', fontsize = 15)\n",
        "plt.ylabel('Score', fontweight ='bold', fontsize = 15)\n",
        "plt.xticks([r + barWidth for r in range(len(x))],x_count)\n",
        "\n",
        "plt.legend()\n",
        "plt.show()\n"
      ],
      "execution_count": 32,
      "outputs": [
        {
          "output_type": "display_data",
          "data": {
            "image/png": "[encoded data removed]",
            "text/plain": [
              "<Figure size 864x576 with 1 Axes>"
            ]
          },
          "metadata": {
            "needs_background": "light"
          }
        }
      ]
    },
    {
      "cell_type": "markdown",
      "metadata": {
        "id": "CAKWhjPzg9ob"
      },
      "source": [
        "**As graph is too dense we plot on top 10**"
      ]
    },
    {
      "cell_type": "code",
      "metadata": {
        "colab": {
          "base_uri": "https://localhost:8080/",
          "height": 505
        },
        "id": "J_hSjklnhCaV",
        "outputId": "efc17e04-9116-4213-bd6a-7e5f201dcc34"
      },
      "source": [
        "import numpy as np\n",
        "import matplotlib.pyplot as plt\n",
        "\n",
        "# set width of bar\n",
        "barWidth = 0.25\n",
        "fig = plt.subplots(figsize =(12, 8))\n",
        "\n",
        "# set height of bar\n",
        "x = result['fb_insta_leven']\n",
        "y = result['fb_insta_jaro']\n",
        "x = x[0:11]\n",
        "y = y[0:11]\n",
        "# Set position of bar on X axis\n",
        "br1 = np.arange(len(x))\n",
        "br2 = [x1 + barWidth for x1 in br1]\n",
        "\n",
        "# Make the plot\n",
        "plt.bar(br1, x, color ='r', width = barWidth,\n",
        "\t\tedgecolor ='grey', label ='fb_insta_leven')\n",
        "plt.bar(br2, y, color ='g', width = barWidth,\n",
        "\t\tedgecolor ='grey', label ='fb_insta_jaro')\n",
        "\n",
        "# Adding Xticks\n",
        "plt.xlabel('Count', fontweight ='bold', fontsize = 15)\n",
        "plt.ylabel('Scores', fontweight ='bold', fontsize = 15)\n",
        "plt.xticks([r + barWidth for r in range(len(x))],x_count[0:11])\n",
        "\n",
        "plt.legend()\n",
        "plt.show()\n"
      ],
      "execution_count": 33,
      "outputs": [
        {
          "output_type": "display_data",
          "data": {
            "image/png": "[encoded data removed]",
            "text/plain": [
              "<Figure size 864x576 with 1 Axes>"
            ]
          },
          "metadata": {
            "needs_background": "light"
          }
        }
      ]
    },
    {
      "cell_type": "markdown",
      "metadata": {
        "id": "JQjItWkep2Mk"
      },
      "source": [
        "**Plotting similarities between Instagram and Twitter**"
      ]
    },
    {
      "cell_type": "code",
      "metadata": {
        "colab": {
          "base_uri": "https://localhost:8080/",
          "height": 269
        },
        "id": "qyeaWpC4qLEp",
        "outputId": "081de22f-64cf-4826-e14b-f42563201b26"
      },
      "source": [
        "# importing package\n",
        "import matplotlib.pyplot as plt\n",
        "import numpy as np\n",
        "  \n",
        "# create data\n",
        "x = result['insta_twitter_leven']\n",
        "y = result['insta_twitter_jaro']\n",
        "x_count = []\n",
        "for i in range(1,324):\n",
        "  x_count.append(i)\n",
        "fig = plt.figure()\n",
        "ax1 = fig.add_subplot(111)\n",
        "\n",
        "ax1.scatter(x, x_count, s=100, c='r', marker=\"s\", label='insta_twitter_leven')\n",
        "ax1.scatter(y,x_count, s=70, c='g', marker=\"o\", label='insta_twitter_jaro')\n",
        "plt.legend(loc='upper left');\n",
        "plt.show()"
      ],
      "execution_count": null,
      "outputs": [
        {
          "output_type": "display_data",
          "data": {
            "image/png": "[encoded data removed]",
            "text/plain": [
              "<Figure size 432x288 with 1 Axes>"
            ]
          },
          "metadata": {
            "needs_background": "light"
          }
        }
      ]
    },
    {
      "cell_type": "code",
      "metadata": {
        "colab": {
          "base_uri": "https://localhost:8080/",
          "height": 505
        },
        "id": "6fdm3Jo6iysf",
        "outputId": "fef0a5fb-af6d-4cc4-f22f-6ce79db2b03e"
      },
      "source": [
        "import numpy as np\n",
        "import matplotlib.pyplot as plt\n",
        "\n",
        "# set width of bar\n",
        "barWidth = 0.25\n",
        "fig = plt.subplots(figsize =(12, 8))\n",
        "\n",
        "# set height of bar\n",
        "x = result['insta_twitter_leven']\n",
        "y = result['insta_twitter_jaro']\n",
        "# Set position of bar on X axis\n",
        "br1 = np.arange(len(x))\n",
        "br2 = [x1 + barWidth for x1 in br1]\n",
        "x_count = []\n",
        "for i in range(1,324):\n",
        "  x_count.append(i)\n",
        "# Make the plot\n",
        "plt.bar(br1, x, color ='r', width = barWidth,\n",
        "\t\tedgecolor ='grey', label ='fb_insta_leven')\n",
        "plt.bar(br2, y, color ='g', width = barWidth,\n",
        "\t\tedgecolor ='grey', label ='fb_insta_jaro')\n",
        "\n",
        "# Adding Xticks\n",
        "plt.xlabel('Count', fontweight ='bold', fontsize = 15)\n",
        "plt.ylabel('Score', fontweight ='bold', fontsize = 15)\n",
        "plt.xticks([r + barWidth for r in range(len(x))],x_count)\n",
        "\n",
        "plt.legend()\n",
        "plt.show()\n"
      ],
      "execution_count": 34,
      "outputs": [
        {
          "output_type": "display_data",
          "data": {
            "image/png": "[encoded data removed]",
            "text/plain": [
              "<Figure size 864x576 with 1 Axes>"
            ]
          },
          "metadata": {
            "needs_background": "light"
          }
        }
      ]
    },
    {
      "cell_type": "markdown",
      "metadata": {
        "id": "jw-BsY5Wiysf"
      },
      "source": [
        "**As graph is too dense we plot on top 10**"
      ]
    },
    {
      "cell_type": "code",
      "metadata": {
        "colab": {
          "base_uri": "https://localhost:8080/",
          "height": 505
        },
        "id": "I_42sC4Piysg",
        "outputId": "32b3fed3-46aa-4586-992d-e7ea7a75b0b6"
      },
      "source": [
        "import numpy as np\n",
        "import matplotlib.pyplot as plt\n",
        "\n",
        "# set width of bar\n",
        "barWidth = 0.25\n",
        "fig = plt.subplots(figsize =(12, 8))\n",
        "\n",
        "# set height of bar\n",
        "x = result['insta_twitter_leven']\n",
        "y = result['insta_twitter_jaro']\n",
        "x = x[0:11]\n",
        "y = y[0:11]\n",
        "# Set position of bar on X axis\n",
        "br1 = np.arange(len(x))\n",
        "br2 = [x1 + barWidth for x1 in br1]\n",
        "\n",
        "# Make the plot\n",
        "plt.bar(br1, x, color ='r', width = barWidth,\n",
        "\t\tedgecolor ='grey', label ='fb_insta_leven')\n",
        "plt.bar(br2, y, color ='g', width = barWidth,\n",
        "\t\tedgecolor ='grey', label ='fb_insta_jaro')\n",
        "\n",
        "# Adding Xticks\n",
        "plt.xlabel('Count', fontweight ='bold', fontsize = 15)\n",
        "plt.ylabel('Scores', fontweight ='bold', fontsize = 15)\n",
        "plt.xticks([r + barWidth for r in range(len(x))],x_count[0:11])\n",
        "\n",
        "plt.legend()\n",
        "plt.show()\n"
      ],
      "execution_count": 35,
      "outputs": [
        {
          "output_type": "display_data",
          "data": {
            "image/png": "[encoded data removed]",
            "text/plain": [
              "<Figure size 864x576 with 1 Axes>"
            ]
          },
          "metadata": {
            "needs_background": "light"
          }
        }
      ]
    },
    {
      "cell_type": "markdown",
      "metadata": {
        "id": "UPxhrQZ-q3-z"
      },
      "source": [
        "**Plotting Facebook and twitter**"
      ]
    },
    {
      "cell_type": "code",
      "metadata": {
        "colab": {
          "base_uri": "https://localhost:8080/",
          "height": 269
        },
        "id": "Z-J1up49rCVa",
        "outputId": "24cf680e-0615-4872-c379-a0c69548293e"
      },
      "source": [
        "# importing package\n",
        "import matplotlib.pyplot as plt\n",
        "import numpy as np\n",
        "  \n",
        "# create data\n",
        "x = result['fb_twitter_leven']\n",
        "y = result['facebook_twitter_jaro']\n",
        "x_count = []\n",
        "for i in range(1,324):\n",
        "  x_count.append(i)\n",
        "fig = plt.figure()\n",
        "ax1 = fig.add_subplot(111)\n",
        "\n",
        "ax1.scatter(x, x_count, s=100, c='r', marker=\"s\", label='fb_twitter_leven')\n",
        "ax1.scatter(y,x_count, s=70, c='b', marker=\"o\", label='facebook_twitter_jaro')\n",
        "plt.legend(loc='upper left');\n",
        "plt.show()"
      ],
      "execution_count": null,
      "outputs": [
        {
          "output_type": "display_data",
          "data": {
            "image/png": "[encoded data removed]",
            "text/plain": [
              "<Figure size 432x288 with 1 Axes>"
            ]
          },
          "metadata": {
            "needs_background": "light"
          }
        }
      ]
    },
    {
      "cell_type": "code",
      "metadata": {
        "colab": {
          "base_uri": "https://localhost:8080/",
          "height": 505
        },
        "id": "D4EvsPfCjK8f",
        "outputId": "0670bf89-e4b2-4b7b-8568-9e3e00951322"
      },
      "source": [
        "import numpy as np\n",
        "import matplotlib.pyplot as plt\n",
        "\n",
        "# set width of bar\n",
        "barWidth = 0.25\n",
        "fig = plt.subplots(figsize =(12, 8))\n",
        "\n",
        "# set height of bar\n",
        "x = result['fb_twitter_leven']\n",
        "y = result['facebook_twitter_jaro']\n",
        "# Set position of bar on X axis\n",
        "br1 = np.arange(len(x))\n",
        "br2 = [x1 + barWidth for x1 in br1]\n",
        "x_count = []\n",
        "for i in range(1,324):\n",
        "  x_count.append(i)\n",
        "# Make the plot\n",
        "plt.bar(br1, x, color ='r', width = barWidth,\n",
        "\t\tedgecolor ='grey', label ='fb_insta_leven')\n",
        "plt.bar(br2, y, color ='g', width = barWidth,\n",
        "\t\tedgecolor ='grey', label ='fb_insta_jaro')\n",
        "\n",
        "# Adding Xticks\n",
        "plt.xlabel('Count', fontweight ='bold', fontsize = 15)\n",
        "plt.ylabel('Score', fontweight ='bold', fontsize = 15)\n",
        "plt.xticks([r + barWidth for r in range(len(x))],x_count)\n",
        "\n",
        "plt.legend()\n",
        "plt.show()\n"
      ],
      "execution_count": 36,
      "outputs": [
        {
          "output_type": "display_data",
          "data": {
            "image/png": "[encoded data removed]",
            "text/plain": [
              "<Figure size 864x576 with 1 Axes>"
            ]
          },
          "metadata": {
            "needs_background": "light"
          }
        }
      ]
    },
    {
      "cell_type": "markdown",
      "metadata": {
        "id": "qXixhWuljK8f"
      },
      "source": [
        "**As graph is too dense we plot on top 10**"
      ]
    },
    {
      "cell_type": "code",
      "metadata": {
        "colab": {
          "base_uri": "https://localhost:8080/",
          "height": 505
        },
        "id": "pXxIP9KrjK8g",
        "outputId": "3654972d-41fd-4d31-f674-f724b8a40aaf"
      },
      "source": [
        "import numpy as np\n",
        "import matplotlib.pyplot as plt\n",
        "\n",
        "# set width of bar\n",
        "barWidth = 0.25\n",
        "fig = plt.subplots(figsize =(12, 8))\n",
        "\n",
        "# set height of bar\n",
        "x = result['fb_twitter_leven']\n",
        "y = result['facebook_twitter_jaro']\n",
        "x = x[0:11]\n",
        "y = y[0:11]\n",
        "# Set position of bar on X axis\n",
        "br1 = np.arange(len(x))\n",
        "br2 = [x1 + barWidth for x1 in br1]\n",
        "\n",
        "# Make the plot\n",
        "plt.bar(br1, x, color ='r', width = barWidth,\n",
        "\t\tedgecolor ='grey', label ='fb_insta_leven')\n",
        "plt.bar(br2, y, color ='g', width = barWidth,\n",
        "\t\tedgecolor ='grey', label ='fb_insta_jaro')\n",
        "\n",
        "# Adding Xticks\n",
        "plt.xlabel('Count', fontweight ='bold', fontsize = 15)\n",
        "plt.ylabel('Scores', fontweight ='bold', fontsize = 15)\n",
        "plt.xticks([r + barWidth for r in range(len(x))],x_count[0:11])\n",
        "\n",
        "plt.legend()\n",
        "plt.show()\n"
      ],
      "execution_count": 37,
      "outputs": [
        {
          "output_type": "display_data",
          "data": {
            "image/png": "[encoded data removed]",
            "text/plain": [
              "<Figure size 864x576 with 1 Axes>"
            ]
          },
          "metadata": {
            "needs_background": "light"
          }
        }
      ]
    },
    {
      "cell_type": "markdown",
      "metadata": {
        "id": "i_9nudZ0scwN"
      },
      "source": [
        "**Count of similar values in facebook and twitter using levenshtein**"
      ]
    },
    {
      "cell_type": "code",
      "metadata": {
        "colab": {
          "base_uri": "https://localhost:8080/"
        },
        "id": "AhAYE-oJrlM2",
        "outputId": "ff9182c1-32a1-493c-afce-6a3fc22bb25d"
      },
      "source": [
        "result[\"fb_twitter_leven\"].value_counts()\n"
      ],
      "execution_count": null,
      "outputs": [
        {
          "output_type": "execute_result",
          "data": {
            "text/plain": [
              "1.000000    89\n",
              "0.000000    26\n",
              "0.125000     8\n",
              "0.750000     7\n",
              "0.923077     6\n",
              "            ..\n",
              "0.470588     1\n",
              "0.769231     1\n",
              "0.571429     1\n",
              "0.307692     1\n",
              "0.133333     1\n",
              "Name: fb_twitter_leven, Length: 89, dtype: int64"
            ]
          },
          "metadata": {},
          "execution_count": 50
        }
      ]
    },
    {
      "cell_type": "markdown",
      "metadata": {
        "id": "A-dovEMWsi8G"
      },
      "source": [
        "**Count of similar values in facebook and twitter using Jaro**"
      ]
    },
    {
      "cell_type": "code",
      "metadata": {
        "colab": {
          "base_uri": "https://localhost:8080/"
        },
        "id": "nZQ3wCXqspV8",
        "outputId": "4c0c3814-e60f-4f92-f28a-4ad353c25bfe"
      },
      "source": [
        "result[\"facebook_twitter_jaro\"].value_counts()"
      ],
      "execution_count": null,
      "outputs": [
        {
          "output_type": "execute_result",
          "data": {
            "text/plain": [
              "1.000000    89\n",
              "0.000000    19\n",
              "0.833333     4\n",
              "0.866667     3\n",
              "0.986193     3\n",
              "            ..\n",
              "0.707937     1\n",
              "0.806527     1\n",
              "0.614815     1\n",
              "0.626374     1\n",
              "0.486111     1\n",
              "Name: facebook_twitter_jaro, Length: 186, dtype: int64"
            ]
          },
          "metadata": {},
          "execution_count": 52
        }
      ]
    },
    {
      "cell_type": "markdown",
      "metadata": {
        "id": "hiPUWiQisyKe"
      },
      "source": [
        "**As we can see that most of the usernames in facebook and twitter were same as the similarity is 1 making it prone to information theft**"
      ]
    },
    {
      "cell_type": "markdown",
      "metadata": {
        "id": "C6jcnmfutJrm"
      },
      "source": [
        "**Count of similar values in facebook and instagram using levenshtein**"
      ]
    },
    {
      "cell_type": "code",
      "metadata": {
        "colab": {
          "base_uri": "https://localhost:8080/"
        },
        "id": "j2Fc80KPtJrn",
        "outputId": "455506f7-c57f-41ad-be97-46c90fd7c7fb"
      },
      "source": [
        "result[\"fb_insta_leven\"].value_counts()\n"
      ],
      "execution_count": null,
      "outputs": [
        {
          "output_type": "execute_result",
          "data": {
            "text/plain": [
              "1.000000    104\n",
              "0.000000     17\n",
              "0.363636      6\n",
              "0.666667      6\n",
              "0.923077      6\n",
              "           ... \n",
              "0.071429      1\n",
              "0.380952      1\n",
              "0.133333      1\n",
              "0.157895      1\n",
              "0.700000      1\n",
              "Name: fb_insta_leven, Length: 86, dtype: int64"
            ]
          },
          "metadata": {},
          "execution_count": 53
        }
      ]
    },
    {
      "cell_type": "markdown",
      "metadata": {
        "id": "RIZDdL1btJrn"
      },
      "source": [
        "**Count of similar values in facebook and instagram using Jaro**"
      ]
    },
    {
      "cell_type": "code",
      "metadata": {
        "colab": {
          "base_uri": "https://localhost:8080/"
        },
        "id": "NQHfOB5_tJrn",
        "outputId": "cf717781-07b8-44e1-c722-72c10d76a867"
      },
      "source": [
        "result[\"fb_insta_jaro\"].value_counts()"
      ],
      "execution_count": null,
      "outputs": [
        {
          "output_type": "execute_result",
          "data": {
            "text/plain": [
              "1.000000    101\n",
              "0.000000     14\n",
              "0.977778      3\n",
              "0.851852      3\n",
              "0.988095      3\n",
              "           ... \n",
              "0.555556      1\n",
              "0.822376      1\n",
              "0.624242      1\n",
              "0.626374      1\n",
              "0.401786      1\n",
              "Name: fb_insta_jaro, Length: 186, dtype: int64"
            ]
          },
          "metadata": {},
          "execution_count": 54
        }
      ]
    },
    {
      "cell_type": "markdown",
      "metadata": {
        "id": "iKU_5j0NtWQU"
      },
      "source": [
        "**As compared to facebook and twitter, facebook and instagram have more similar usernames making it more prone to theft of privacy**"
      ]
    },
    {
      "cell_type": "markdown",
      "metadata": {
        "id": "NrwBfEZrtqVz"
      },
      "source": [
        "**Count of similar values in twitter and instagram using levenshtein**"
      ]
    },
    {
      "cell_type": "code",
      "metadata": {
        "colab": {
          "base_uri": "https://localhost:8080/"
        },
        "id": "YEbFcvgUtqV0",
        "outputId": "c1d5abe1-02bc-4b50-87e9-5f94879b2cf9"
      },
      "source": [
        "result[\"insta_twitter_leven\"].value_counts()\n"
      ],
      "execution_count": null,
      "outputs": [
        {
          "output_type": "execute_result",
          "data": {
            "text/plain": [
              "1.000000    160\n",
              "0.800000     12\n",
              "0.000000     11\n",
              "0.714286      9\n",
              "0.777778      7\n",
              "0.888889      7\n",
              "0.833333      6\n",
              "0.571429      6\n",
              "0.111111      6\n",
              "0.333333      5\n",
              "0.818182      5\n",
              "0.750000      4\n",
              "0.583333      4\n",
              "0.785714      4\n",
              "0.666667      4\n",
              "0.857143      4\n",
              "0.727273      4\n",
              "0.200000      4\n",
              "0.875000      4\n",
              "0.153846      4\n",
              "0.250000      3\n",
              "0.428571      3\n",
              "0.900000      2\n",
              "0.066667      2\n",
              "0.928571      2\n",
              "0.230769      2\n",
              "0.923077      2\n",
              "0.222222      2\n",
              "0.166667      2\n",
              "0.100000      2\n",
              "0.125000      2\n",
              "0.133333      2\n",
              "0.142857      2\n",
              "0.384615      2\n",
              "0.272727      2\n",
              "0.625000      1\n",
              "0.217391      1\n",
              "0.357143      1\n",
              "0.444444      1\n",
              "0.285714      1\n",
              "0.529412      1\n",
              "0.555556      1\n",
              "0.214286      1\n",
              "0.266667      1\n",
              "0.600000      1\n",
              "0.083333      1\n",
              "0.454545      1\n",
              "0.916667      1\n",
              "0.545455      1\n",
              "0.933333      1\n",
              "0.466667      1\n",
              "0.400000      1\n",
              "0.307692      1\n",
              "0.363636      1\n",
              "0.076923      1\n",
              "0.909091      1\n",
              "Name: insta_twitter_leven, dtype: int64"
            ]
          },
          "metadata": {},
          "execution_count": 55
        }
      ]
    },
    {
      "cell_type": "markdown",
      "metadata": {
        "id": "s5_VsObOtqV2"
      },
      "source": [
        "**Count of similar values in insta and twitter using Jaro**"
      ]
    },
    {
      "cell_type": "code",
      "metadata": {
        "colab": {
          "base_uri": "https://localhost:8080/"
        },
        "id": "EJ4SLmr9tqV3",
        "outputId": "e28720b6-c3f4-41d5-d120-e07d57997963"
      },
      "source": [
        "result[\"insta_twitter_jaro\"].value_counts()"
      ],
      "execution_count": null,
      "outputs": [
        {
          "output_type": "execute_result",
          "data": {
            "text/plain": [
              "1.000000    154\n",
              "0.000000     15\n",
              "0.866667     10\n",
              "0.878788      5\n",
              "0.851852      5\n",
              "           ... \n",
              "0.933333      1\n",
              "0.584848      1\n",
              "0.972789      1\n",
              "0.620757      1\n",
              "0.948148      1\n",
              "Name: insta_twitter_jaro, Length: 113, dtype: int64"
            ]
          },
          "metadata": {},
          "execution_count": 56
        }
      ]
    },
    {
      "cell_type": "markdown",
      "metadata": {
        "id": "s_TbpelWtg92"
      },
      "source": [
        "**More than half of usernames were same in both instagram and twitter.**\n",
        "\n",
        "**As looking up the values following summarization can be done**\n",
        "\n",
        "**Similarity of (instagram and twitter)> Similarity of (facebook and Instagram) > Similarity of (facebook  and twitter)**"
      ]
    }
  ]
}